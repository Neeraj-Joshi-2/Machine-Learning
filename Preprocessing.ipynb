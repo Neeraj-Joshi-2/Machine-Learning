{
 "cells": [
  {
   "cell_type": "code",
   "execution_count": 1,
   "metadata": {},
   "outputs": [],
   "source": [
    "import string "
   ]
  },
  {
   "cell_type": "code",
   "execution_count": 2,
   "metadata": {},
   "outputs": [
    {
     "data": {
      "text/plain": [
       "'@ pyth0n $tr!ng !$ l!k# th!$.'"
      ]
     },
     "execution_count": 2,
     "metadata": {},
     "output_type": "execute_result"
    }
   ],
   "source": [
    "translation_table_ = str.maketrans('aeious','@#!04$')\n",
    "'a python string is like this.'.translate(translation_table_)"
   ]
  },
  {
   "cell_type": "code",
   "execution_count": 3,
   "metadata": {},
   "outputs": [
    {
     "data": {
      "text/plain": [
       "{97: 64, 101: 35, 105: 33, 111: 48, 117: 52, 115: 36}"
      ]
     },
     "execution_count": 3,
     "metadata": {},
     "output_type": "execute_result"
    }
   ],
   "source": [
    "translation_table_"
   ]
  },
  {
   "cell_type": "code",
   "execution_count": 4,
   "metadata": {},
   "outputs": [
    {
     "name": "stdout",
     "output_type": "stream",
     "text": [
      "a : @\n",
      "e : #\n",
      "i : !\n",
      "o : 0\n",
      "u : 4\n",
      "s : $\n"
     ]
    }
   ],
   "source": [
    "for key,value in translation_table_.items() :\n",
    "    print(chr(key), ':' , chr(value))"
   ]
  },
  {
   "cell_type": "code",
   "execution_count": 5,
   "metadata": {},
   "outputs": [],
   "source": [
    "rmv_puntuations_ = str.maketrans(string.punctuation , ' '*len(string.punctuation))"
   ]
  },
  {
   "cell_type": "code",
   "execution_count": 6,
   "metadata": {
    "scrolled": true
   },
   "outputs": [
    {
     "data": {
      "text/plain": [
       "'  pyth0n  tr ng    l k  th   '"
      ]
     },
     "execution_count": 6,
     "metadata": {},
     "output_type": "execute_result"
    }
   ],
   "source": [
    "'@ pyth0n $tr!ng !$ l!k# th!$.'.translate(rmv_puntuations_)"
   ]
  },
  {
   "cell_type": "code",
   "execution_count": 7,
   "metadata": {},
   "outputs": [],
   "source": [
    "rmv_puntuations_ = str.maketrans(' ' , ' ' , string.punctuation)"
   ]
  },
  {
   "cell_type": "code",
   "execution_count": 8,
   "metadata": {},
   "outputs": [
    {
     "data": {
      "text/plain": [
       "' pyth0n trng  lk th'"
      ]
     },
     "execution_count": 8,
     "metadata": {},
     "output_type": "execute_result"
    }
   ],
   "source": [
    "'@ pyth0n $tr!ng !$ l!k# th!$.'.translate(rmv_puntuations_)"
   ]
  },
  {
   "cell_type": "code",
   "execution_count": 9,
   "metadata": {},
   "outputs": [
    {
     "name": "stdout",
     "output_type": "stream",
     "text": [
      "Within dialogue   Holy cow screamed Jane\n"
     ]
    }
   ],
   "source": [
    "print('Within dialogue? : - \"Holy cow!\" screamed Jane.'.translate(rmv_puntuations_))"
   ]
  },
  {
   "cell_type": "code",
   "execution_count": null,
   "metadata": {},
   "outputs": [],
   "source": []
  },
  {
   "cell_type": "code",
   "execution_count": 10,
   "metadata": {},
   "outputs": [],
   "source": [
    "from nltk import sent_tokenize   #break para -> sentence list"
   ]
  },
  {
   "cell_type": "code",
   "execution_count": 11,
   "metadata": {},
   "outputs": [],
   "source": [
    "raw_string_ = 'Python is an interpreted high-level general-purpose programming language. Its design philosophy emphasizes code readability with its use of significant indentation. Its language constructs as well as its object-oriented approach aim to help programmers write clear, logical code for small and large-scale projects.'"
   ]
  },
  {
   "cell_type": "code",
   "execution_count": 12,
   "metadata": {},
   "outputs": [
    {
     "name": "stderr",
     "output_type": "stream",
     "text": [
      "[nltk_data] Downloading package punkt to\n",
      "[nltk_data]     C:\\Users\\NEERAJ\\AppData\\Roaming\\nltk_data...\n",
      "[nltk_data]   Package punkt is already up-to-date!\n"
     ]
    },
    {
     "data": {
      "text/plain": [
       "True"
      ]
     },
     "execution_count": 12,
     "metadata": {},
     "output_type": "execute_result"
    }
   ],
   "source": [
    "import nltk\n",
    "nltk.download('punkt')"
   ]
  },
  {
   "cell_type": "code",
   "execution_count": 13,
   "metadata": {},
   "outputs": [
    {
     "data": {
      "text/plain": [
       "['Python is an interpreted high-level general-purpose programming language.',\n",
       " 'Its design philosophy emphasizes code readability with its use of significant indentation.',\n",
       " 'Its language constructs as well as its object-oriented approach aim to help programmers write clear, logical code for small and large-scale projects.']"
      ]
     },
     "execution_count": 13,
     "metadata": {},
     "output_type": "execute_result"
    }
   ],
   "source": [
    "sent_tokenize(raw_string_)"
   ]
  },
  {
   "cell_type": "code",
   "execution_count": 14,
   "metadata": {},
   "outputs": [],
   "source": [
    "from nltk import word_tokenize"
   ]
  },
  {
   "cell_type": "code",
   "execution_count": 15,
   "metadata": {
    "scrolled": true
   },
   "outputs": [
    {
     "data": {
      "text/plain": [
       "['Python',\n",
       " 'is',\n",
       " 'an',\n",
       " 'interpreted',\n",
       " 'high-level',\n",
       " 'general-purpose',\n",
       " 'programming',\n",
       " 'language',\n",
       " '.',\n",
       " 'Its',\n",
       " 'design',\n",
       " 'philosophy',\n",
       " 'emphasizes',\n",
       " 'code',\n",
       " 'readability',\n",
       " 'with',\n",
       " 'its',\n",
       " 'use',\n",
       " 'of',\n",
       " 'significant',\n",
       " 'indentation',\n",
       " '.',\n",
       " 'Its',\n",
       " 'language',\n",
       " 'constructs',\n",
       " 'as',\n",
       " 'well',\n",
       " 'as',\n",
       " 'its',\n",
       " 'object-oriented',\n",
       " 'approach',\n",
       " 'aim',\n",
       " 'to',\n",
       " 'help',\n",
       " 'programmers',\n",
       " 'write',\n",
       " 'clear',\n",
       " ',',\n",
       " 'logical',\n",
       " 'code',\n",
       " 'for',\n",
       " 'small',\n",
       " 'and',\n",
       " 'large-scale',\n",
       " 'projects',\n",
       " '.']"
      ]
     },
     "execution_count": 15,
     "metadata": {},
     "output_type": "execute_result"
    }
   ],
   "source": [
    "word_tokenize(raw_string_)"
   ]
  },
  {
   "cell_type": "code",
   "execution_count": 16,
   "metadata": {},
   "outputs": [],
   "source": [
    "from nltk.corpus import stopwords"
   ]
  },
  {
   "cell_type": "code",
   "execution_count": 17,
   "metadata": {},
   "outputs": [
    {
     "name": "stderr",
     "output_type": "stream",
     "text": [
      "[nltk_data] Downloading package stopwords to\n",
      "[nltk_data]     C:\\Users\\NEERAJ\\AppData\\Roaming\\nltk_data...\n",
      "[nltk_data]   Package stopwords is already up-to-date!\n"
     ]
    },
    {
     "data": {
      "text/plain": [
       "True"
      ]
     },
     "execution_count": 17,
     "metadata": {},
     "output_type": "execute_result"
    }
   ],
   "source": [
    "import nltk\n",
    "nltk.download('stopwords')"
   ]
  },
  {
   "cell_type": "code",
   "execution_count": 18,
   "metadata": {
    "scrolled": true
   },
   "outputs": [
    {
     "data": {
      "text/plain": [
       "['i',\n",
       " 'me',\n",
       " 'my',\n",
       " 'myself',\n",
       " 'we',\n",
       " 'our',\n",
       " 'ours',\n",
       " 'ourselves',\n",
       " 'you',\n",
       " \"you're\",\n",
       " \"you've\",\n",
       " \"you'll\",\n",
       " \"you'd\",\n",
       " 'your',\n",
       " 'yours',\n",
       " 'yourself',\n",
       " 'yourselves',\n",
       " 'he',\n",
       " 'him',\n",
       " 'his',\n",
       " 'himself',\n",
       " 'she',\n",
       " \"she's\",\n",
       " 'her',\n",
       " 'hers',\n",
       " 'herself',\n",
       " 'it',\n",
       " \"it's\",\n",
       " 'its',\n",
       " 'itself',\n",
       " 'they',\n",
       " 'them',\n",
       " 'their',\n",
       " 'theirs',\n",
       " 'themselves',\n",
       " 'what',\n",
       " 'which',\n",
       " 'who',\n",
       " 'whom',\n",
       " 'this',\n",
       " 'that',\n",
       " \"that'll\",\n",
       " 'these',\n",
       " 'those',\n",
       " 'am',\n",
       " 'is',\n",
       " 'are',\n",
       " 'was',\n",
       " 'were',\n",
       " 'be',\n",
       " 'been',\n",
       " 'being',\n",
       " 'have',\n",
       " 'has',\n",
       " 'had',\n",
       " 'having',\n",
       " 'do',\n",
       " 'does',\n",
       " 'did',\n",
       " 'doing',\n",
       " 'a',\n",
       " 'an',\n",
       " 'the',\n",
       " 'and',\n",
       " 'but',\n",
       " 'if',\n",
       " 'or',\n",
       " 'because',\n",
       " 'as',\n",
       " 'until',\n",
       " 'while',\n",
       " 'of',\n",
       " 'at',\n",
       " 'by',\n",
       " 'for',\n",
       " 'with',\n",
       " 'about',\n",
       " 'against',\n",
       " 'between',\n",
       " 'into',\n",
       " 'through',\n",
       " 'during',\n",
       " 'before',\n",
       " 'after',\n",
       " 'above',\n",
       " 'below',\n",
       " 'to',\n",
       " 'from',\n",
       " 'up',\n",
       " 'down',\n",
       " 'in',\n",
       " 'out',\n",
       " 'on',\n",
       " 'off',\n",
       " 'over',\n",
       " 'under',\n",
       " 'again',\n",
       " 'further',\n",
       " 'then',\n",
       " 'once',\n",
       " 'here',\n",
       " 'there',\n",
       " 'when',\n",
       " 'where',\n",
       " 'why',\n",
       " 'how',\n",
       " 'all',\n",
       " 'any',\n",
       " 'both',\n",
       " 'each',\n",
       " 'few',\n",
       " 'more',\n",
       " 'most',\n",
       " 'other',\n",
       " 'some',\n",
       " 'such',\n",
       " 'no',\n",
       " 'nor',\n",
       " 'not',\n",
       " 'only',\n",
       " 'own',\n",
       " 'same',\n",
       " 'so',\n",
       " 'than',\n",
       " 'too',\n",
       " 'very',\n",
       " 's',\n",
       " 't',\n",
       " 'can',\n",
       " 'will',\n",
       " 'just',\n",
       " 'don',\n",
       " \"don't\",\n",
       " 'should',\n",
       " \"should've\",\n",
       " 'now',\n",
       " 'd',\n",
       " 'll',\n",
       " 'm',\n",
       " 'o',\n",
       " 're',\n",
       " 've',\n",
       " 'y',\n",
       " 'ain',\n",
       " 'aren',\n",
       " \"aren't\",\n",
       " 'couldn',\n",
       " \"couldn't\",\n",
       " 'didn',\n",
       " \"didn't\",\n",
       " 'doesn',\n",
       " \"doesn't\",\n",
       " 'hadn',\n",
       " \"hadn't\",\n",
       " 'hasn',\n",
       " \"hasn't\",\n",
       " 'haven',\n",
       " \"haven't\",\n",
       " 'isn',\n",
       " \"isn't\",\n",
       " 'ma',\n",
       " 'mightn',\n",
       " \"mightn't\",\n",
       " 'mustn',\n",
       " \"mustn't\",\n",
       " 'needn',\n",
       " \"needn't\",\n",
       " 'shan',\n",
       " \"shan't\",\n",
       " 'shouldn',\n",
       " \"shouldn't\",\n",
       " 'wasn',\n",
       " \"wasn't\",\n",
       " 'weren',\n",
       " \"weren't\",\n",
       " 'won',\n",
       " \"won't\",\n",
       " 'wouldn',\n",
       " \"wouldn't\"]"
      ]
     },
     "execution_count": 18,
     "metadata": {},
     "output_type": "execute_result"
    }
   ],
   "source": [
    "stopwords_lists_ = stopwords.words('english')\n",
    "stopwords_lists_"
   ]
  },
  {
   "cell_type": "code",
   "execution_count": 19,
   "metadata": {},
   "outputs": [
    {
     "name": "stdout",
     "output_type": "stream",
     "text": [
      "['somebody', 'said', ',', \"''\", 'He', '[', 'Mr.', 'Jones', ']', 'was', 'the', 'last', 'person', 'seen', 'at', 'Sam', \"'s\", 'house', \"''\", '.']\n"
     ]
    }
   ],
   "source": [
    "sample_tokens_ = word_tokenize('somebody said,\"He [Mr. Jones] was the last person seen at Sam\\'s house\".')\n",
    "print(sample_tokens_)"
   ]
  },
  {
   "cell_type": "code",
   "execution_count": 20,
   "metadata": {},
   "outputs": [
    {
     "name": "stdout",
     "output_type": "stream",
     "text": [
      "['somebody', 'said', '', '', 'He', '', 'Mr', 'Jones', '', 'was', 'the', 'last', 'person', 'seen', 'at', 'Sam', 's', 'house', '', '']\n"
     ]
    }
   ],
   "source": [
    "#cleaning\n",
    "cleaned_text = list()\n",
    "for word in sample_tokens_ :\n",
    "    cleaned_text.append(word.translate(rmv_puntuations_))\n",
    "    \n",
    "print(cleaned_text)"
   ]
  },
  {
   "cell_type": "code",
   "execution_count": 21,
   "metadata": {},
   "outputs": [
    {
     "name": "stdout",
     "output_type": "stream",
     "text": [
      "['somebody', 'said', 'He', 'Mr', 'Jones', 'was', 'the', 'last', 'person', 'seen', 'at', 'Sam', 's', 'house']\n"
     ]
    }
   ],
   "source": [
    "cleaned_text = list()\n",
    "for word in sample_tokens_ :\n",
    "    foo_word = word.lower()\n",
    "    foo_word = foo_word.translate(rmv_puntuations_)\n",
    "    if foo_word :\n",
    "        cleaned_text.append(word.translate(rmv_puntuations_))\n",
    "    \n",
    "print(cleaned_text)"
   ]
  },
  {
   "cell_type": "code",
   "execution_count": null,
   "metadata": {},
   "outputs": [],
   "source": []
  },
  {
   "cell_type": "code",
   "execution_count": 22,
   "metadata": {},
   "outputs": [
    {
     "name": "stdout",
     "output_type": "stream",
     "text": [
      "b'<!DOCTYPE html>\\n<html class=\"client-nojs\" lang=\"en\" dir=\"ltr\">\\n<head>\\n<meta charset=\"UTF-8\"/>\\n<title'\n"
     ]
    }
   ],
   "source": [
    "# connect to webpage\n",
    "from urllib import request\n",
    "\n",
    "# download the webpage\n",
    "page_address_ = r'https://en.wikipedia.org/wiki/Python_(programming_language)'\n",
    "# surf page\n",
    "html_page_connection_ = request.urlopen(page_address_)\n",
    "# read page\n",
    "page_html_string_ = html_page_connection_.read()\n",
    "# see\n",
    "print(page_html_string_[:100])"
   ]
  },
  {
   "cell_type": "code",
   "execution_count": 23,
   "metadata": {
    "scrolled": true
   },
   "outputs": [],
   "source": [
    "from bs4 import BeautifulSoup\n",
    "\n",
    "# string/text data fetcher\n",
    "fetcher_ = BeautifulSoup(page_html_string_,'lxml')\n",
    "# fetch all paragraphs text\n",
    "# para_list_ = [raw_para.text for raw_para in fetcher_.find_all('p')]\n",
    "raw_text_ = ' '.join([raw_para.text for raw_para in fetcher_.find_all('p')])\n",
    "# see\n",
    "# para_list_[:5]"
   ]
  },
  {
   "cell_type": "code",
   "execution_count": 24,
   "metadata": {},
   "outputs": [
    {
     "data": {
      "text/plain": [
       "'\\n Python is an interpreted high-level general-purpose programming language. Its design philosophy emphasizes code readability with its use of significant indentation. Its language constructs as well as its object-oriented approach aim to help programmers write clear, logical code for small and large-scale projects.[31]\\n Python is dynamically-typed and garbage-collected. It supports multiple programming paradigms, including structured (particularly, procedural), object-oriented and functional programming. It is often described as a \"batteries included\" language due to its comprehensive standard library.[32]\\n Guido van Rossum began working on Python in the late 1980s, as a successor to the ABC programming language, and first released it in 1991 as Python\\xa00.9.0.[33] Python\\xa02.0 was released in 2000 and introduced new features, such as list comprehensions and a garbage collection system using reference counting. Python\\xa03.0 was released in 2008 and was a major revision of the language that is not completely backward-compatible. Python\\xa02 was discontinued with version\\xa02.7.18 in 2020.[34]\\n Python consistently ranks as one of the most popular programming languages.[35][36][37][38]\\n Python was conceived in the late 1980s[39] by Guido van Rossum at Centrum Wiskunde & Informatica (CWI) in the Netherlands as a successor to  ABC programming language, which was inspired by SETL,[40] capable of exception handling and interfacing with the Amoeba operating system.[11] Its implementation began in December\\xa01989.[41] Van Rossum shouldered sole responsibility for the project, as the lead developer, until 12 July 2018, when he announced his \"permanent vacation\" from his responsibilities as Python\\'s \"Benevolent Dictator For Life\", a title the Python community bestowed upon him to reflect his long-term commitment as the project\\'s chief decision-maker.[42] In January\\xa02019, active Python core developers elected a five-member \"Steering Council\" to lead the project.[43][44]\\n Python\\xa02.0 was released on 16 October 2000, with many major new features, including a cycle-detecting garbage collector and support for Unicode.[45]\\n Python\\xa03.0 was released on 3 December 2008. It was a major revision of the language that is not completely backward-compatible.[46] Many of its major features were backported to Python\\xa02.6.x[47] and 2.7.x version series.  Releases of Python\\xa03 include the 2to3 utility, which automates the translation of Python\\xa02 code to Python\\xa03.[48]\\n Python\\xa02.7\\'s end-of-life date was initially set at 2015 then postponed to early 2020 out of concern that a large body of existing code could not easily be forward-ported to Python\\xa03.[49][50]  No more security patches or other improvements will be released for it.[51][52] With Python\\xa02\\'s end-of-life, only  Python\\xa03.6.x[53] and later are supported.\\n Python\\xa03.9.2 and 3.8.8 were expedited[54] as all versions of Python (including 2.7[55]) had security issues, leading to possible remote code execution[56] and web cache poisoning.[57]\\n Python is a multi-paradigm programming language. Object-oriented programming and structured programming are fully supported, and many of its features support functional programming and aspect-oriented programming (including by metaprogramming[58] and metaobjects (magic methods)).[59] Many other paradigms are supported via extensions, including design by contract[60][61] and logic programming.[62]\\n Python uses dynamic typing and a combination of reference counting and a cycle-detecting garbage collector for memory management.[63] It also features dynamic name resolution (late binding), which binds method and variable names during program execution.\\n Python\\'s design offers some support for functional programming in the Lisp tradition. It has filter,mapandreduce functions; list comprehensions, dictionaries, sets, and generator expressions.[64] The standard library has two modules (itertools and functools) that implement functional tools borrowed from Haskell and Standard ML.[65]\\n The language\\'s core philosophy is summarized in the document The Zen of Python (PEP 20), which includes aphorisms such as:[66]\\n Rather than having all of its functionality built into its core, Python was designed to be highly extensible (with modules). This compact modularity has made it particularly popular as a means of adding programmable interfaces to existing applications. Van Rossum\\'s vision of a small core language with a large standard library and easily extensible interpreter stemmed from his frustrations with ABC, which espoused the opposite approach.[39] It is often described as a \"batteries included\" language due to its comprehensive standard library.[67]\\n Python strives for a simpler, less-cluttered syntax and grammar while giving developers a choice in their coding methodology. In contrast to Perl\\'s \"there is more than one way to do it\" motto, Python embraces a \"there should be one— and preferably only one —obvious way to do it\"  design philosophy.[66] Alex Martelli, a Fellow at the Python Software Foundation and Python book author, writes that \"To describe something as \\'clever\\' is not considered a compliment in the Python culture.\"[68]\\n Python\\'s developers strive to avoid premature optimization, and reject patches to non-critical parts of the CPython reference implementation that would offer marginal increases in speed at the cost of clarity.[69] When speed is important, a Python programmer can move time-critical functions to extension modules written in languages such as C, or use PyPy, a just-in-time compiler. Cython is also available, which translates a Python script into C and makes direct C-level API calls into the Python interpreter.\\n Python\\'s developers aim for the language to be fun to use. This is reflected in its name—a tribute to the British comedy group Monty Python[70]—and in occasionally playful approaches to tutorials and reference materials, such as examples that refer to spam and eggs (a reference to a Monty Python sketch) instead of the standard foo and bar.[71][72]\\n A common neologism in the Python community is pythonic, which can have a wide range of meanings related to program style. To say that code is pythonic is to say that it uses Python idioms well, that it is natural or shows fluency in the language, that it conforms with Python\\'s minimalist philosophy and emphasis on readability. In contrast, code that is difficult to understand or reads like a rough transcription from another programming language is called unpythonic.[73][74]\\n Users and admirers of Python, especially those considered knowledgeable or experienced, are often referred to as Pythonistas.[75][76]\\n Python is meant to be an easily readable language. Its formatting is visually uncluttered, and it often uses English keywords where other languages use punctuation. Unlike many other languages, it does not use curly brackets to delimit blocks, and semicolons after statements are allowed but are rarely, if ever, used. It has fewer syntactic exceptions and special cases than C or Pascal.[77]\\n Python uses whitespace indentation, rather than curly brackets or keywords, to delimit blocks. An increase in indentation comes after certain statements; a decrease in indentation signifies the end of the current block.[78] Thus, the program\\'s visual structure accurately represents the program\\'s semantic structure.[79] This feature is sometimes termed the off-side rule, which some other languages share, but in most languages indentation does not have any semantic meaning. The recommended indent size is four spaces.[80]\\n Python\\'s statements include (among others):\\n The assignment statement (=) operates by binding a name as a reference to a separate, dynamically-allocated object. Variables may subsequently be rebound at any time to any object. In Python, a variable name is a generic reference holder and does not have a fixed data type associated with it. However, at a given time, a variable will refer to some object, which will have a type. This is referred to as dynamic typing and is contrasted with statically-typed programming languages, where each variable may only contain values of a certain type.\\n Python does not support tail call optimization or first-class continuations, and, according to Guido van Rossum, it never will.[82][83] However, better support for coroutine-like functionality is provided, by extending Python\\'s generators.[84] Before 2.5, generators were lazy iterators; information was passed unidirectionally out of the generator. From Python\\xa02.5, it is possible to pass information back into a generator function, and from Python\\xa03.3, the information can be passed through multiple stack levels.[85]\\n Some Python expressions are similar to those found in languages such as C and Java, while some are not:\\n In Python, a distinction between expressions and statements is rigidly enforced, in contrast to languages such as Common Lisp, Scheme, or Ruby. This leads to duplicating some functionality. For example:\\n Statements cannot be a part of an expression, so list and other comprehensions or lambda expressions, all being expressions, cannot contain statements. A particular case of this is that an assignment statement such as a = 1 cannot form part of the conditional expression of a conditional statement. This has the advantage of avoiding a classic C error of mistaking an assignment operator = for an equality operator == in conditions: if (c = 1) { ... } is syntactically valid (but probably unintended) C code but if c = 1: ... causes a syntax error in Python.\\n Methods on objects are functions attached to the object\\'s class; the syntax instance.method(argument) is, for normal methods and functions, syntactic sugar for Class.method(instance, argument). Python methods have an explicit self parameter to access instance data, in contrast to the implicit self (or this) in some other object-oriented programming languages (e.g., C++, Java, Objective-C, or Ruby).[96]\\nApart from this, Python also provides methods, often called dunder methods (due to their names beginning and ending with double-underscores), to allow user-defined classes to modify how they are handled by native operations such as length, comparison, in arithmetic operations, type conversion, and many more.[97]\\n Python uses duck typing and has typed objects but untyped variable names. Type constraints are not checked at compile time; rather, operations on an object may fail, signifying that the given object is not of a suitable type. Despite being dynamically-typed, Python is strongly-typed, forbidding operations that are not well-defined (for example, adding a number to a string) rather than silently attempting to make sense of them.\\n Python allows programmers to define their own types using classes, which are most often used for object-oriented programming. New instances of classes are constructed by calling the class (for example, SpamClass() or EggsClass()), and the classes are instances of the metaclass type (itself an instance of itself), allowing metaprogramming and reflection.\\n Before version\\xa03.0, Python had two kinds of classes: old-style and new-style.[98] The syntax of both styles is the same, the difference being whether the class object is inherited from, directly or indirectly (all new-style classes inherit from object and are instances of type). In versions of Python\\xa02 from Python\\xa02.2 onwards, both kinds of classes can be used. Old-style classes were eliminated in Python\\xa03.0.\\n The long-term plan is to support gradual typing[99] and from Python\\xa03.5, the syntax of the language allows specifying static types but they are not checked in the default implementation, CPython. An experimental optional static type checker named mypy supports compile-time type checking.[100]\\n 1.33333\\n .mw-parser-output .citation{word-wrap:break-word}.mw-parser-output .citation:target{background-color:rgba(0,127,255,0.133)}^a Not directly accessible by name\\n Python has the usual symbols for arithmetic operators (+, -, *, /), the floor division operator // and the modulo operation % (where the remainder can be negative,  e.g. 4\\xa0% -3 == -2). It also has ** for exponentiation, e.g. 5**3 == 125 and 9**0.5 == 3.0, and a matrix‑multiplication operator @ .[104] These operators work like in traditional math; with the same precedence rules, the operators infix (+ and - can also be unary to represent positive and negative numbers respectively).\\n The division between integers produces floating-point results. The behavior of division has changed significantly over time:[105]\\n In Python terms, / is true division (or simply division), and // is floor division. / before version 3.0 is classic division.[105]\\n Rounding towards negative infinity, though different from most languages, adds consistency. For instance, it means that the equation (a + b)//b == a//b + 1 is always true. It also means that the equation b*(a//b) + a%b == a is valid for both positive and negative values of a. However, maintaining the validity of this equation means that while the result of a%b is, as expected, in the half-open interval [0, b), where b is a positive integer, it has to lie in the interval (b, 0] when b is negative.[106]\\n Python provides a round function for rounding a float to the nearest integer. For tie-breaking, Python\\xa03 uses round to even: round(1.5) and round(2.5) both produce 2.[107] Versions before 3 used round-away-from-zero: round(0.5) is 1.0, round(-0.5) is −1.0.[108]\\n Python allows boolean expressions with multiple equality relations in a manner that is consistent with general use in mathematics. For example, the expression a < b < c tests whether a is less than b and b is less than c.[109] C-derived languages interpret this expression differently: in C, the expression would first evaluate a < b, resulting in 0 or 1, and that result would then be compared with c.[110]\\n Python uses arbitrary-precision arithmetic for all integer operations. The Decimal type/class in the decimal module provides decimal floating-point numbers to a pre-defined arbitrary precision and several rounding modes.[111] The Fraction class in the fractions module provides arbitrary precision for rational numbers.[112]\\n Due to Python\\'s extensive mathematics library, and the third-party library NumPy that further extends the native capabilities, it is frequently used as a scientific scripting language to aid in problems such as numerical data processing and manipulation.[113][114]\\n Hello world program:\\n Program to calculate the factorial of a positive integer:\\n Python\\'s large standard library, commonly cited as one of its greatest strengths,[115] provides tools suited to many tasks. For Internet-facing applications, many standard formats and protocols such as MIME and HTTP are supported. It includes modules for creating graphical user interfaces, connecting to relational databases, generating pseudorandom numbers, arithmetic with arbitrary-precision decimals,[116] manipulating regular expressions, and unit testing.\\n Some parts of the standard library are covered by specifications (for example, the Web Server Gateway Interface (WSGI) implementation wsgiref follows PEP 333[117]), but most modules are not. They are specified by their code, internal documentation, and test suites. However, because most of the standard library is cross-platform Python code, only a few modules need altering or rewriting for variant implementations.\\n As of September\\xa02021,[update] the Python Package Index (PyPI), the official repository for third-party Python software, contains over 329,000[118] packages with a wide range of functionality, including:\\n Most Python implementations (including CPython) include a read–eval–print loop (REPL), permitting them to function as a command line interpreter for which the user enters statements sequentially and receives results immediately.\\n Python comes with a Integrated development environment (IDE) called IDLE, which is more beginner based.\\n Other shells, including IDLE and IPython, add further abilities such as improved auto-completion, session state retention and syntax highlighting.\\n As well as standard desktop integrated development environments, there are Web browser-based IDEs; SageMath (intended for developing science and math-related Python programs); PythonAnywhere, a browser-based IDE and hosting environment; and Canopy IDE, a commercial Python IDE emphasizing scientific computing.[119]\\n CPython is the reference implementation of Python. It is written in C, meeting the C89 standard with several select C99 features (with later C versions out, it\\'s considered outdated;[120][121]  CPython includes its own C extensions, but third-party extensions are not limited to older C versions, can e.g. be implemented with C11 or C++[122]).[123] It compiles Python programs into an intermediate bytecode[124] which is then executed by its virtual machine.[125] CPython is distributed with a large standard library written in a mixture of C and native Python. It is available for many platforms, including Windows (starting with Python\\xa03.9, the Python installer deliberately fails to install on Windows 7 and 8;[126][127] Windows XP was supported until Python\\xa03.5) and most modern Unix-like systems, including macOS (and Apple M1 Macs, since Python\\xa03.9.1, with experimental installer) and unofficial support for e.g. VMS.[128] Platform portability was one of its earliest priorities,[129] during the Python\\xa01 and Python\\xa02 time-frame, even OS/2 and Solaris were supported;[130] support has since been dropped for a lot of platforms.\\n Other just-in-time Python compilers have been developed, but are now unsupported:\\n There are several compilers to high-level object languages, with either unrestricted Python, a restricted subset of Python, or a language similar to Python as the source language:\\n A performance comparison of various Python implementations on a non-numerical (combinatorial) workload was presented at EuroSciPy \\'13.[151] Python\\'s performance compared to other programming languages is also benchmarked by The Computer Language Benchmarks Game.[152]\\n Python\\'s development is conducted largely through the Python Enhancement Proposal (PEP) process, the primary mechanism for proposing major new features, collecting community input on issues and documenting Python design decisions.[153] Python coding style is covered in PEP\\xa08.[154] Outstanding PEPs are reviewed and commented on by the Python community and the steering council.[153]\\n Enhancement of the language corresponds with development of the CPython reference implementation. The mailing list python-dev is the primary forum for the language\\'s development. Specific issues are discussed in the Roundup bug tracker hosted at bugs.python.org.[155] Development originally took place on a self-hosted source-code repository running Mercurial, until Python moved to GitHub in January 2017.[156]\\n CPython\\'s public releases come in three types, distinguished by which part of the version number is incremented:\\n Many alpha, beta, and release-candidates are also released as previews and for testing before final releases. Although there is a rough schedule for each release, they are often delayed if the code is not ready. Python\\'s development team monitors the state of the code by running the large unit test suite during development.[161]\\n The major academic conference on Python is PyCon. There are also special Python mentoring programmes, such as Pyladies.\\n Python\\xa03.10 deprecates wstr (to be removed in Python\\xa03.12; meaning Python extensions[162] need to be modified by then),[163] and also plans to add pattern matching to the language.[164]\\n Tools that can generate documentation for Python API include pydoc (available as part of standard library), Sphinx, Pdoc and its forks, Doxygen and Graphviz, among others.[165]\\n Python\\'s name is derived from the British comedy group Monty Python, whom Python creator Guido van Rossum enjoyed while developing the language. Monty Python references appear frequently in Python code and culture;[166] for example, the metasyntactic variables often used in Python literature are spam and eggs instead of the traditional foo and bar.[166][167] The official Python documentation also contains various references to Monty Python routines.[168][169]\\n The prefix Py- is used to show that something is related to Python. Examples of the use of this prefix in names of Python applications or libraries include Pygame, a binding of SDL to Python (commonly used to create games); PyQt and PyGTK, which bind Qt and GTK to Python respectively; and PyPy, a Python implementation originally written in Python.\\n Since 2003, Python has consistently ranked in the top ten most popular programming languages in the TIOBE Programming Community Index where, as of October\\xa02021[update], it is the most popular language (ahead of Java, and C).[170] It was selected Programming Language of the Year (for \"the highest rise in ratings in a year\") in 2007, 2010, 2018, and 2020 (the only language to do so four times[171]).[172]\\n An empirical study found that scripting languages, such as Python, are more productive than conventional languages, such as C and Java, for programming problems involving string manipulation and search in a dictionary, and determined that memory consumption was often \"better than Java and not much worse than C or C++\".[173]\\n Large organizations that use Python include Wikipedia, Google,[174] Yahoo!,[175] CERN,[176] NASA,[177] Facebook,[178] Amazon, Instagram,[179] Spotify[180] and some smaller entities like ILM[181] and ITA.[182] The social news networking site Reddit was written mostly in Python.[183]\\n Python can serve as a scripting language for web applications, e.g., via mod_wsgi for the Apache web server.[184] With Web Server Gateway Interface, a standard API has evolved to facilitate these applications. Web frameworks like Django, Pylons, Pyramid, TurboGears, web2py, Tornado, Flask, Bottle and Zope support developers in the design and maintenance of complex applications. Pyjs and IronPython can be used to develop the client-side of Ajax-based applications. SQLAlchemy can be used as a data mapper to a relational database. Twisted is a framework to program communications between computers, and is used (for example) by Dropbox.\\n Libraries such as NumPy, SciPy and Matplotlib allow the effective use of Python in scientific computing,[185][186] with specialized libraries such as Biopython and Astropy providing domain-specific functionality. SageMath is a computer algebra system with a notebook interface programmable in Python: its library covers many aspects of mathematics, including algebra, combinatorics, numerical mathematics, number theory, and calculus.[187] OpenCV has Python bindings with a rich set of features for computer vision and image processing.[188]\\n Python is commonly used in artificial intelligence projects and machine learning projects with the help of libraries like TensorFlow, Keras, Pytorch and Scikit-learn.[189][190][191][192] As a scripting language with modular architecture, simple syntax and rich text processing tools, Python is often used for natural language processing.[193]\\n Python can also be used to create games, with libraries such as Pygame, which can make 2D games.\\n Python has been successfully embedded in many software products as a scripting language, including in finite element method software such as Abaqus, 3D parametric modeler like FreeCAD, 3D animation packages such as 3ds Max, Blender, Cinema 4D, Lightwave, Houdini, Maya, modo, MotionBuilder, Softimage, the visual effects compositor Nuke, 2D imaging programs like GIMP,[194] Inkscape, Scribus and Paint Shop Pro,[195] and musical notation programs like scorewriter and capella. GNU Debugger uses Python as a pretty printer to show complex structures such as C++ containers. Esri promotes Python as the best choice for writing scripts in ArcGIS.[196] It has also been used in several video games,[197][198] and has been adopted as first of the three available programming languages in Google App Engine, the other two being Java and Go.[199]\\n Many operating systems include Python as a standard component. It ships with most Linux distributions,[200] AmigaOS 4 (using Python\\xa02.7), FreeBSD (as a package), NetBSD, OpenBSD (as a package) and macOS and can be used from the command line (terminal). Many Linux distributions use installers written in Python: Ubuntu uses the Ubiquity installer, while Red Hat Linux and Fedora use the Anaconda installer. Gentoo Linux uses Python in its package management system, Portage.\\n Python is used extensively in the information security industry, including in exploit development.[201][202]\\n Most of the Sugar software for the One Laptop per Child XO, now developed at Sugar Labs, is written in Python.[203] The Raspberry Pi single-board computer project has adopted Python as its main user-programming language.\\n LibreOffice includes Python, and intends to replace Java with Python. Its Python Scripting Provider is a core feature[204] since Version 4.0 from 7 February 2013.\\n Python\\'s design and philosophy have influenced many other programming languages:\\n Python\\'s development practices have also been emulated by other languages. For example, the practice of requiring a document describing the rationale for, and issues surrounding, a change to the language (in Python, a PEP) is also used in Tcl,[214] Erlang,[215] and Swift.[216]\\n \\n'"
      ]
     },
     "execution_count": 24,
     "metadata": {},
     "output_type": "execute_result"
    }
   ],
   "source": [
    "raw_text_"
   ]
  },
  {
   "cell_type": "code",
   "execution_count": 25,
   "metadata": {},
   "outputs": [],
   "source": [
    "# fetcher_.find_all('p')"
   ]
  },
  {
   "cell_type": "code",
   "execution_count": 26,
   "metadata": {},
   "outputs": [],
   "source": [
    "# fetcher_.get_text()"
   ]
  },
  {
   "cell_type": "code",
   "execution_count": 27,
   "metadata": {},
   "outputs": [],
   "source": [
    "# [raw_text.text for raw_text in fetcher_.find_all('p')]"
   ]
  },
  {
   "cell_type": "code",
   "execution_count": null,
   "metadata": {},
   "outputs": [],
   "source": []
  },
  {
   "cell_type": "code",
   "execution_count": 28,
   "metadata": {},
   "outputs": [
    {
     "data": {
      "text/plain": [
       "['\\n Python is an interpreted high-level general-purpose programming language.',\n",
       " 'Its design philosophy emphasizes code readability with its use of significant indentation.',\n",
       " 'Its language constructs as well as its object-oriented approach aim to help programmers write clear, logical code for small and large-scale projects.',\n",
       " '[31]\\n Python is dynamically-typed and garbage-collected.',\n",
       " 'It supports multiple programming paradigms, including structured (particularly, procedural), object-oriented and functional programming.']"
      ]
     },
     "execution_count": 28,
     "metadata": {},
     "output_type": "execute_result"
    }
   ],
   "source": [
    "#preprocessing\n",
    "from nltk import sent_tokenize\n",
    "\n",
    "# stenc for page raw texts\n",
    "stenc_tokens_ = sent_tokenize(raw_text_)\n",
    "stenc_tokens_[:5]"
   ]
  },
  {
   "cell_type": "markdown",
   "metadata": {},
   "source": [
    "# method - 1"
   ]
  },
  {
   "cell_type": "code",
   "execution_count": 37,
   "metadata": {},
   "outputs": [
    {
     "data": {
      "text/plain": [
       "(['\\n Python is an interpreted high-level general-purpose programming language.',\n",
       "  'Its design philosophy emphasizes code readability with its use of significant indentation.'],\n",
       " [' python is an interpreted highlevel generalpurpose programming language',\n",
       "  'its design philosophy emphasizes code readability with its use of significant indentation'])"
      ]
     },
     "execution_count": 37,
     "metadata": {},
     "output_type": "execute_result"
    }
   ],
   "source": [
    "import string \n",
    "\n",
    "# make copy\n",
    "preprocessed_text_m1_ = list()\n",
    "# making puntuation remover\n",
    "rmv_puntuations_ = str.maketrans('','',string.punctuation+'\\n'+'\\t')\n",
    "# remove all punctuation - all sentc\n",
    "for sentc_ in stenc_tokens_ :\n",
    "    foo_sentc = sentc_.lower()\n",
    "    preprocessed_text_m1_.append(foo_sentc.translate(rmv_puntuations_))\n",
    "# see change\n",
    "stenc_tokens_[:2] , preprocessed_text_m1_ [:2]"
   ]
  },
  {
   "cell_type": "code",
   "execution_count": 39,
   "metadata": {},
   "outputs": [
    {
     "ename": "NameError",
     "evalue": "name 'corpus_' is not defined",
     "output_type": "error",
     "traceback": [
      "\u001b[1;31m---------------------------------------------------------------------------\u001b[0m",
      "\u001b[1;31mNameError\u001b[0m                                 Traceback (most recent call last)",
      "\u001b[1;32m<ipython-input-39-7c6af5da504c>\u001b[0m in \u001b[0;36m<module>\u001b[1;34m\u001b[0m\n\u001b[0;32m      1\u001b[0m \u001b[0mwordfreq\u001b[0m \u001b[1;33m=\u001b[0m \u001b[0mdict\u001b[0m\u001b[1;33m(\u001b[0m\u001b[1;33m)\u001b[0m\u001b[1;33m\u001b[0m\u001b[1;33m\u001b[0m\u001b[0m\n\u001b[0;32m      2\u001b[0m \u001b[1;33m\u001b[0m\u001b[0m\n\u001b[1;32m----> 3\u001b[1;33m \u001b[1;32mfor\u001b[0m \u001b[0msentence\u001b[0m \u001b[1;32min\u001b[0m \u001b[0mcorpus_\u001b[0m \u001b[1;33m:\u001b[0m\u001b[1;33m\u001b[0m\u001b[1;33m\u001b[0m\u001b[0m\n\u001b[0m\u001b[0;32m      4\u001b[0m     \u001b[0mtokens\u001b[0m \u001b[1;33m=\u001b[0m \u001b[0mword_trokenize\u001b[0m\u001b[1;33m(\u001b[0m\u001b[0msentence\u001b[0m\u001b[1;33m)\u001b[0m\u001b[1;33m\u001b[0m\u001b[1;33m\u001b[0m\u001b[0m\n\u001b[0;32m      5\u001b[0m \u001b[1;33m\u001b[0m\u001b[0m\n",
      "\u001b[1;31mNameError\u001b[0m: name 'corpus_' is not defined"
     ]
    }
   ],
   "source": [
    "wordfreq = dict()\n",
    "\n",
    "for sentence in corpus_ :\n",
    "    tokens = word_trokenize(sentence)\n",
    "    \n",
    "    for token in tokens :\n",
    "        if token not in wordfreq.keys():wordfreq[token] = 1\n",
    "        else : wordfreq[token]+=1\n",
    "\n",
    "print('Word Frequency : ' , wordfreq)\n",
    "print('Word Frequency - lengths (unique words) : ' , len(wordfreq))"
   ]
  },
  {
   "cell_type": "code",
   "execution_count": null,
   "metadata": {},
   "outputs": [],
   "source": []
  }
 ],
 "metadata": {
  "kernelspec": {
   "display_name": "Python 3",
   "language": "python",
   "name": "python3"
  },
  "language_info": {
   "codemirror_mode": {
    "name": "ipython",
    "version": 3
   },
   "file_extension": ".py",
   "mimetype": "text/x-python",
   "name": "python",
   "nbconvert_exporter": "python",
   "pygments_lexer": "ipython3",
   "version": "3.7.6"
  }
 },
 "nbformat": 4,
 "nbformat_minor": 4
}
