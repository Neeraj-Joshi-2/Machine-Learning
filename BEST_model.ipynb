{
 "cells": [
  {
   "cell_type": "code",
   "execution_count": 1,
   "metadata": {},
   "outputs": [],
   "source": [
    "from sklearn.tree import DecisionTreeClassifier \n",
    "from sklearn.naive_bayes import GaussianNB\n",
    "from sklearn.neighbors import KNeighborsClassifier\n",
    "from sklearn.ensemble import RandomForestClassifier\n",
    "\n",
    "\n",
    "from sklearn.model_selection import train_test_split\n",
    "from sklearn.metrics import accuracy_score\n",
    "from sklearn import metrics\n",
    "\n",
    "import pandas as pd"
   ]
  },
  {
   "cell_type": "code",
   "execution_count": 2,
   "metadata": {},
   "outputs": [],
   "source": [
    "\n",
    "data = pd.read_csv(\"Rainfalldataset.csv\")\n",
    "\n",
    "data = data.fillna(data.mean())"
   ]
  },
  {
   "cell_type": "code",
   "execution_count": 3,
   "metadata": {},
   "outputs": [
    {
     "data": {
      "text/html": [
       "<div>\n",
       "<style scoped>\n",
       "    .dataframe tbody tr th:only-of-type {\n",
       "        vertical-align: middle;\n",
       "    }\n",
       "\n",
       "    .dataframe tbody tr th {\n",
       "        vertical-align: top;\n",
       "    }\n",
       "\n",
       "    .dataframe thead th {\n",
       "        text-align: right;\n",
       "    }\n",
       "</style>\n",
       "<table border=\"1\" class=\"dataframe\">\n",
       "  <thead>\n",
       "    <tr style=\"text-align: right;\">\n",
       "      <th></th>\n",
       "      <th>temp(c)</th>\n",
       "      <th>pressure(mb)</th>\n",
       "      <th>humidity()</th>\n",
       "      <th>cloud cover()</th>\n",
       "      <th>wind speed(mph)</th>\n",
       "      <th>wind dir.</th>\n",
       "      <th>precip.(mm)</th>\n",
       "    </tr>\n",
       "  </thead>\n",
       "  <tbody>\n",
       "    <tr>\n",
       "      <th>0</th>\n",
       "      <td>28</td>\n",
       "      <td>1005</td>\n",
       "      <td>85.0</td>\n",
       "      <td>22</td>\n",
       "      <td>7</td>\n",
       "      <td>6</td>\n",
       "      <td>0.1</td>\n",
       "    </tr>\n",
       "    <tr>\n",
       "      <th>1</th>\n",
       "      <td>27</td>\n",
       "      <td>1005</td>\n",
       "      <td>83.0</td>\n",
       "      <td>15</td>\n",
       "      <td>6</td>\n",
       "      <td>7</td>\n",
       "      <td>0.0</td>\n",
       "    </tr>\n",
       "    <tr>\n",
       "      <th>2</th>\n",
       "      <td>28</td>\n",
       "      <td>1006</td>\n",
       "      <td>80.0</td>\n",
       "      <td>15</td>\n",
       "      <td>5</td>\n",
       "      <td>7</td>\n",
       "      <td>0.0</td>\n",
       "    </tr>\n",
       "    <tr>\n",
       "      <th>3</th>\n",
       "      <td>33</td>\n",
       "      <td>1007</td>\n",
       "      <td>70.0</td>\n",
       "      <td>16</td>\n",
       "      <td>6</td>\n",
       "      <td>7</td>\n",
       "      <td>0.0</td>\n",
       "    </tr>\n",
       "    <tr>\n",
       "      <th>4</th>\n",
       "      <td>35</td>\n",
       "      <td>1006</td>\n",
       "      <td>61.0</td>\n",
       "      <td>32</td>\n",
       "      <td>7</td>\n",
       "      <td>6</td>\n",
       "      <td>0.0</td>\n",
       "    </tr>\n",
       "  </tbody>\n",
       "</table>\n",
       "</div>"
      ],
      "text/plain": [
       "   temp(c)  pressure(mb)  humidity()  cloud cover()  wind speed(mph)  \\\n",
       "0       28          1005        85.0             22                7   \n",
       "1       27          1005        83.0             15                6   \n",
       "2       28          1006        80.0             15                5   \n",
       "3       33          1007        70.0             16                6   \n",
       "4       35          1006        61.0             32                7   \n",
       "\n",
       "   wind dir.  precip.(mm)  \n",
       "0          6          0.1  \n",
       "1          7          0.0  \n",
       "2          7          0.0  \n",
       "3          7          0.0  \n",
       "4          6          0.0  "
      ]
     },
     "execution_count": 3,
     "metadata": {},
     "output_type": "execute_result"
    }
   ],
   "source": [
    "data.head()"
   ]
  },
  {
   "cell_type": "code",
   "execution_count": 4,
   "metadata": {},
   "outputs": [
    {
     "data": {
      "text/html": [
       "<div>\n",
       "<style scoped>\n",
       "    .dataframe tbody tr th:only-of-type {\n",
       "        vertical-align: middle;\n",
       "    }\n",
       "\n",
       "    .dataframe tbody tr th {\n",
       "        vertical-align: top;\n",
       "    }\n",
       "\n",
       "    .dataframe thead th {\n",
       "        text-align: right;\n",
       "    }\n",
       "</style>\n",
       "<table border=\"1\" class=\"dataframe\">\n",
       "  <thead>\n",
       "    <tr style=\"text-align: right;\">\n",
       "      <th></th>\n",
       "      <th>temp(c)</th>\n",
       "      <th>pressure(mb)</th>\n",
       "      <th>humidity()</th>\n",
       "      <th>cloud cover()</th>\n",
       "      <th>wind speed(mph)</th>\n",
       "      <th>wind dir.</th>\n",
       "      <th>precip.(mm)</th>\n",
       "    </tr>\n",
       "  </thead>\n",
       "  <tbody>\n",
       "    <tr>\n",
       "      <th>count</th>\n",
       "      <td>3956.000000</td>\n",
       "      <td>3956.000000</td>\n",
       "      <td>3956.000000</td>\n",
       "      <td>3956.000000</td>\n",
       "      <td>3956.000000</td>\n",
       "      <td>3956.000000</td>\n",
       "      <td>3956.000000</td>\n",
       "    </tr>\n",
       "    <tr>\n",
       "      <th>mean</th>\n",
       "      <td>30.029575</td>\n",
       "      <td>1004.694135</td>\n",
       "      <td>56.108217</td>\n",
       "      <td>26.039939</td>\n",
       "      <td>6.973711</td>\n",
       "      <td>8.875379</td>\n",
       "      <td>0.664333</td>\n",
       "    </tr>\n",
       "    <tr>\n",
       "      <th>std</th>\n",
       "      <td>5.788509</td>\n",
       "      <td>6.757192</td>\n",
       "      <td>18.661559</td>\n",
       "      <td>27.596761</td>\n",
       "      <td>4.005788</td>\n",
       "      <td>4.010781</td>\n",
       "      <td>1.933930</td>\n",
       "    </tr>\n",
       "    <tr>\n",
       "      <th>min</th>\n",
       "      <td>9.000000</td>\n",
       "      <td>993.000000</td>\n",
       "      <td>4.000000</td>\n",
       "      <td>0.000000</td>\n",
       "      <td>0.000000</td>\n",
       "      <td>1.000000</td>\n",
       "      <td>0.000000</td>\n",
       "    </tr>\n",
       "    <tr>\n",
       "      <th>25%</th>\n",
       "      <td>27.000000</td>\n",
       "      <td>999.000000</td>\n",
       "      <td>44.000000</td>\n",
       "      <td>0.000000</td>\n",
       "      <td>4.000000</td>\n",
       "      <td>5.000000</td>\n",
       "      <td>0.000000</td>\n",
       "    </tr>\n",
       "    <tr>\n",
       "      <th>50%</th>\n",
       "      <td>31.000000</td>\n",
       "      <td>1003.000000</td>\n",
       "      <td>57.000000</td>\n",
       "      <td>18.000000</td>\n",
       "      <td>6.000000</td>\n",
       "      <td>8.000000</td>\n",
       "      <td>0.000000</td>\n",
       "    </tr>\n",
       "    <tr>\n",
       "      <th>75%</th>\n",
       "      <td>34.000000</td>\n",
       "      <td>1011.000000</td>\n",
       "      <td>71.000000</td>\n",
       "      <td>46.000000</td>\n",
       "      <td>9.000000</td>\n",
       "      <td>13.000000</td>\n",
       "      <td>0.200000</td>\n",
       "    </tr>\n",
       "    <tr>\n",
       "      <th>max</th>\n",
       "      <td>45.000000</td>\n",
       "      <td>1022.000000</td>\n",
       "      <td>93.000000</td>\n",
       "      <td>100.000000</td>\n",
       "      <td>32.000000</td>\n",
       "      <td>16.000000</td>\n",
       "      <td>12.530000</td>\n",
       "    </tr>\n",
       "  </tbody>\n",
       "</table>\n",
       "</div>"
      ],
      "text/plain": [
       "           temp(c)  pressure(mb)   humidity()  cloud cover()  wind speed(mph)  \\\n",
       "count  3956.000000   3956.000000  3956.000000    3956.000000      3956.000000   \n",
       "mean     30.029575   1004.694135    56.108217      26.039939         6.973711   \n",
       "std       5.788509      6.757192    18.661559      27.596761         4.005788   \n",
       "min       9.000000    993.000000     4.000000       0.000000         0.000000   \n",
       "25%      27.000000    999.000000    44.000000       0.000000         4.000000   \n",
       "50%      31.000000   1003.000000    57.000000      18.000000         6.000000   \n",
       "75%      34.000000   1011.000000    71.000000      46.000000         9.000000   \n",
       "max      45.000000   1022.000000    93.000000     100.000000        32.000000   \n",
       "\n",
       "         wind dir.  precip.(mm)  \n",
       "count  3956.000000  3956.000000  \n",
       "mean      8.875379     0.664333  \n",
       "std       4.010781     1.933930  \n",
       "min       1.000000     0.000000  \n",
       "25%       5.000000     0.000000  \n",
       "50%       8.000000     0.000000  \n",
       "75%      13.000000     0.200000  \n",
       "max      16.000000    12.530000  "
      ]
     },
     "execution_count": 4,
     "metadata": {},
     "output_type": "execute_result"
    }
   ],
   "source": [
    "data.describe()"
   ]
  },
  {
   "cell_type": "code",
   "execution_count": 5,
   "metadata": {},
   "outputs": [],
   "source": [
    "data['precip.(mm)'] = data['precip.(mm)'].astype(int) \n",
    "\n",
    "data.loc[data['precip.(mm)'] > 2] = 2 "
   ]
  },
  {
   "cell_type": "code",
   "execution_count": 6,
   "metadata": {},
   "outputs": [],
   "source": [
    "# 0.1 - 0.9   ->      NO_RAINFALL (0)\n",
    "# 1.0 - 1.9   ->      MEDIUM_RAINFALL (1)\n",
    "# 2 and above ->      HEAVY_RAINFALL  (2)"
   ]
  },
  {
   "cell_type": "code",
   "execution_count": 7,
   "metadata": {},
   "outputs": [
    {
     "data": {
      "text/plain": [
       "0    3345\n",
       "2     399\n",
       "1     212\n",
       "Name: precip.(mm), dtype: int64"
      ]
     },
     "execution_count": 7,
     "metadata": {},
     "output_type": "execute_result"
    }
   ],
   "source": [
    "data['precip.(mm)'].value_counts()"
   ]
  },
  {
   "cell_type": "code",
   "execution_count": 8,
   "metadata": {},
   "outputs": [],
   "source": [
    "X = data.drop('precip.(mm)' , axis = 1)\n",
    "y = data['precip.(mm)']"
   ]
  },
  {
   "cell_type": "code",
   "execution_count": 9,
   "metadata": {},
   "outputs": [],
   "source": [
    "X_train, X_test, y_train, y_test = train_test_split( X , y , test_size = 0.30 , random_state = 7)"
   ]
  },
  {
   "cell_type": "code",
   "execution_count": null,
   "metadata": {
    "scrolled": true
   },
   "outputs": [],
   "source": []
  },
  {
   "cell_type": "code",
   "execution_count": null,
   "metadata": {
    "scrolled": true
   },
   "outputs": [],
   "source": []
  },
  {
   "cell_type": "code",
   "execution_count": 10,
   "metadata": {},
   "outputs": [],
   "source": [
    "# Creating classifier\n",
    "\n",
    "clf1 = DecisionTreeClassifier()\n",
    "clf2 = GaussianNB()\n",
    "clf3 = KNeighborsClassifier()\n",
    "clf4 = RandomForestClassifier()\n",
    "    "
   ]
  },
  {
   "cell_type": "code",
   "execution_count": 11,
   "metadata": {},
   "outputs": [
    {
     "data": {
      "text/plain": [
       "RandomForestClassifier(bootstrap=True, ccp_alpha=0.0, class_weight=None,\n",
       "                       criterion='gini', max_depth=None, max_features='auto',\n",
       "                       max_leaf_nodes=None, max_samples=None,\n",
       "                       min_impurity_decrease=0.0, min_impurity_split=None,\n",
       "                       min_samples_leaf=1, min_samples_split=2,\n",
       "                       min_weight_fraction_leaf=0.0, n_estimators=100,\n",
       "                       n_jobs=None, oob_score=False, random_state=None,\n",
       "                       verbose=0, warm_start=False)"
      ]
     },
     "execution_count": 11,
     "metadata": {},
     "output_type": "execute_result"
    }
   ],
   "source": [
    "# Training model\n",
    "\n",
    "clf1.fit(X_train, y_train)\n",
    "clf2.fit(X_train, y_train)\n",
    "clf3.fit(X_train, y_train)\n",
    "clf4.fit(X_train, y_train)\n",
    "\n"
   ]
  },
  {
   "cell_type": "code",
   "execution_count": 12,
   "metadata": {},
   "outputs": [],
   "source": [
    "#prediction\n",
    "\n",
    "y_pred1 = clf1.predict(X_test)\n",
    "y_pred2 = clf2.predict(X_test)\n",
    "y_pred3 = clf3.predict(X_test)\n",
    "y_pred4 = clf4.predict(X_test)\n"
   ]
  },
  {
   "cell_type": "code",
   "execution_count": 13,
   "metadata": {},
   "outputs": [
    {
     "name": "stdout",
     "output_type": "stream",
     "text": [
      "\n",
      "DecisioinTree\n",
      "\n",
      "[0 0 0 ... 0 0 0]\n"
     ]
    }
   ],
   "source": [
    "print(\"\\nDecisioinTree\\n\")\n",
    "print(y_pred1)"
   ]
  },
  {
   "cell_type": "code",
   "execution_count": 14,
   "metadata": {},
   "outputs": [
    {
     "name": "stdout",
     "output_type": "stream",
     "text": [
      "\n",
      "GaussianNB\n",
      "\n",
      "[0 0 0 ... 1 0 0]\n"
     ]
    }
   ],
   "source": [
    "print(\"\\nGaussianNB\\n\")\n",
    "print(y_pred2)"
   ]
  },
  {
   "cell_type": "code",
   "execution_count": 15,
   "metadata": {},
   "outputs": [
    {
     "name": "stdout",
     "output_type": "stream",
     "text": [
      "\n",
      "KNeighborsClassifier\n",
      "\n",
      "[0 0 0 ... 0 0 0]\n"
     ]
    }
   ],
   "source": [
    "print(\"\\nKNeighborsClassifier\\n\")\n",
    "print(y_pred3)"
   ]
  },
  {
   "cell_type": "code",
   "execution_count": 16,
   "metadata": {
    "scrolled": true
   },
   "outputs": [
    {
     "name": "stdout",
     "output_type": "stream",
     "text": [
      "RandomForestClassifier\n",
      "\n",
      "[0 0 0 ... 0 0 0]\n"
     ]
    }
   ],
   "source": [
    "print(\"RandomForestClassifier\\n\")\n",
    "print(y_pred4)"
   ]
  },
  {
   "cell_type": "code",
   "execution_count": 17,
   "metadata": {},
   "outputs": [
    {
     "name": "stdout",
     "output_type": "stream",
     "text": [
      "DECISION TREE CLASSIFIER\n",
      "\n",
      "accuracy :  0.8433024431339511\n",
      "\n",
      "confusion matrix : \n",
      "\n",
      "[[905  77  23]\n",
      " [ 37   7  10]\n",
      " [ 32   7  89]]\n",
      "\n",
      "GAUSSIAN-NB\n",
      "\n",
      "accuracy :  0.827295703454086\n",
      "\n",
      "confusion matrix : \n",
      "\n",
      "[[883 122   0]\n",
      " [ 37  17   0]\n",
      " [ 16  30  82]]\n",
      "\n",
      "K NEIGHBORS CLASSIFIER\n",
      "\n",
      "accuracy :  0.9098567818028643\n",
      "\n",
      "confusion matrix : \n",
      "\n",
      "[[996   8   1]\n",
      " [ 52   2   0]\n",
      " [ 43   3  82]]\n",
      "RANDOM FOREST CLASSIFIER\n",
      "\n",
      "accuracy :  0.9081718618365627\n",
      "\n",
      "confusion matrix : \n",
      "\n",
      "[[995   9   1]\n",
      " [ 52   1   1]\n",
      " [ 44   2  82]]\n"
     ]
    }
   ],
   "source": [
    "print(\"DECISION TREE CLASSIFIER\\n\")\n",
    "accuracy1 = accuracy_score(y_test , y_pred1)\n",
    "print(\"accuracy : \" , accuracy1)\n",
    "print(\"\\nconfusion matrix : \\n\")\n",
    "print(metrics.confusion_matrix(y_test, y_pred1))\n",
    "\n",
    "print(\"\\nGAUSSIAN-NB\\n\")\n",
    "accuracy2 = accuracy_score(y_test , y_pred2)\n",
    "print(\"accuracy : \" , accuracy2)\n",
    "print(\"\\nconfusion matrix : \\n\")\n",
    "print(metrics.confusion_matrix(y_test, y_pred2))\n",
    "\n",
    "print(\"\\nK NEIGHBORS CLASSIFIER\\n\")\n",
    "accuracy3 = accuracy_score(y_test , y_pred3)\n",
    "print(\"accuracy : \" , accuracy3)\n",
    "print(\"\\nconfusion matrix : \\n\")\n",
    "print(metrics.confusion_matrix(y_test, y_pred3))\n",
    "\n",
    "print(\"RANDOM FOREST CLASSIFIER\\n\")\n",
    "accuracy4 = accuracy_score(y_test , y_pred4)\n",
    "print(\"accuracy : \" , accuracy4)\n",
    "print(\"\\nconfusion matrix : \\n\")\n",
    "print(metrics.confusion_matrix(y_test, y_pred4))"
   ]
  },
  {
   "cell_type": "code",
   "execution_count": 18,
   "metadata": {},
   "outputs": [
    {
     "name": "stdout",
     "output_type": "stream",
     "text": [
      "BEST ACCURACY IS :  0.9098567818028643\n"
     ]
    }
   ],
   "source": [
    "model = max(accuracy1, accuracy2, accuracy3, accuracy4)\n",
    "print(\"BEST ACCURACY IS : \", model)"
   ]
  },
  {
   "cell_type": "code",
   "execution_count": 19,
   "metadata": {},
   "outputs": [],
   "source": [
    "#SO WILL SELECT K_NEIGHBORS CLASSIFIER BECAUSE IT HAS THE HIGHEST ACCURACY"
   ]
  },
  {
   "cell_type": "code",
   "execution_count": null,
   "metadata": {},
   "outputs": [],
   "source": []
  }
 ],
 "metadata": {
  "kernelspec": {
   "display_name": "Python 3",
   "language": "python",
   "name": "python3"
  },
  "language_info": {
   "codemirror_mode": {
    "name": "ipython",
    "version": 3
   },
   "file_extension": ".py",
   "mimetype": "text/x-python",
   "name": "python",
   "nbconvert_exporter": "python",
   "pygments_lexer": "ipython3",
   "version": "3.7.6"
  }
 },
 "nbformat": 4,
 "nbformat_minor": 4
}
